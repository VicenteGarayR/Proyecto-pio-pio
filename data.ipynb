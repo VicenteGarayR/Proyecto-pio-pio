{
 "cells": [
  {
   "cell_type": "code",
   "execution_count": 1,
   "metadata": {},
   "outputs": [],
   "source": [
    "import pandas as pd"
   ]
  },
  {
   "cell_type": "code",
   "execution_count": 3,
   "metadata": {},
   "outputs": [],
   "source": [
    "data_2015 = pd.read_csv(\"datos/vis_2015.csv\")\n",
    "data_2015['year'] = 2015\n",
    "\n",
    "data_2016 = pd.read_csv(\"datos/vis_2016.csv\")\n",
    "data_2016['year'] = 2016\n",
    "\n",
    "data_2017 = pd.read_csv(\"datos/vis_2017.csv\")\n",
    "data_2017['year'] = 2017\n",
    "\n",
    "data_2018 = pd.read_csv(\"datos/vis_2018.csv\")\n",
    "data_2018['year'] = 2018\n",
    "\n",
    "data_2019 = pd.read_csv(\"datos/vis_2019.csv\")\n",
    "data_2019['year'] = 2019\n",
    "\n",
    "data_2020 = pd.read_csv(\"datos/vis_2020.csv\")\n",
    "data_2020['year'] = 2020\n",
    "\n",
    "data_2021 = pd.read_csv(\"datos/vis_2021.csv\")\n",
    "data_2021['year'] = 2021\n",
    "\n",
    "data_2022 = pd.read_csv(\"datos/vis_2022.csv\")\n",
    "data_2022['year'] = 2022\n",
    "\n",
    "data_combined = pd.concat([data_2015, data_2016, data_2017, data_2018, data_2019, data_2020, data_2021, data_2022])\n",
    "\n",
    "data_combined.to_csv(\"datos/vis_combined.csv\", index=False)"
   ]
  }
 ],
 "metadata": {
  "kernelspec": {
   "display_name": "Python 3",
   "language": "python",
   "name": "python3"
  },
  "language_info": {
   "codemirror_mode": {
    "name": "ipython",
    "version": 3
   },
   "file_extension": ".py",
   "mimetype": "text/x-python",
   "name": "python",
   "nbconvert_exporter": "python",
   "pygments_lexer": "ipython3",
   "version": "3.11.9"
  }
 },
 "nbformat": 4,
 "nbformat_minor": 2
}
